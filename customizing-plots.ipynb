{
 "cells": [
  {
   "cell_type": "markdown",
   "metadata": {},
   "source": [
    "# Introduction to Data Visualization in Python - Customizing Plots"
   ]
  },
  {
   "cell_type": "code",
   "execution_count": 6,
   "metadata": {},
   "outputs": [],
   "source": [
    "# Multiple plots on single axis\n",
    "\n",
    "# With Datacamp, the dataset is already loaded. For this particular example, \n",
    "# the dataset that has been loaded looks at records of undergraduate degrees \n",
    "# awarded to women in a variety of fields from 1970 to 2011. \n",
    "# We use multiple plots on a single axis to compare trends in degrees.\n",
    "# The code below loads a plot that compares the degrees conferred to women\n",
    "# in Physical Sciences and Computer Sciences between 1970-2011."
   ]
  },
  {
   "cell_type": "code",
   "execution_count": null,
   "metadata": {},
   "outputs": [],
   "source": [
    "# Import matplotlib.pyplot\n",
    "import matplotlib.pyplot as plt\n",
    "\n",
    "# Plot in blue the % of degrees awarded to women in the Physical Sciences\n",
    "plt.plot(year, physical_sciences, color='blue')\n",
    "\n",
    "# Plot in red the % of degrees awarded to women in Computer Science\n",
    "plt.plot(year, computer_science, color='red')\n",
    "\n",
    "# Display the plot\n",
    "plt.show()\n"
   ]
  },
  {
   "cell_type": "code",
   "execution_count": null,
   "metadata": {},
   "outputs": [],
   "source": [
    "# Using axes()\n",
    "\n",
    "# Axes() allows you to plot different line plots on distinct axes, but you will\n",
    "# need to specify coordinates relative to your fig.\n",
    "# When loaded, the plot creates separate sets of axes where each line plot is drawn.\n",
    "# The two plots show the percentage of degrees awarded to women in both Physical Sciences\n",
    "# and Computer Science."
   ]
  },
  {
   "cell_type": "code",
   "execution_count": null,
   "metadata": {},
   "outputs": [],
   "source": [
    "# Create plot axes for the first line plot\n",
    "plt.axes([0.05, 0.05, 0.425, 0.9])\n",
    "\n",
    "# Plot in blue the % of degrees awarded to women in the Physical Sciences\n",
    "plt.plot(year, physical_sciences, color='blue')\n",
    "\n",
    "# Create plot axes for the second line plot\n",
    "plt.axes([0.525, 0.05, 0.425, 0.9])\n",
    "\n",
    "# Plot in red the % of degrees awarded to women in Computer Science\n",
    "plt.plot(year, computer_science, color='red')\n",
    "\n",
    "# Display the plot\n",
    "plt.show()\n"
   ]
  },
  {
   "cell_type": "code",
   "execution_count": null,
   "metadata": {},
   "outputs": [],
   "source": [
    "# Using subplot() (1)\n",
    "\n",
    "# plt.axes() can be tedious to use, which is why we have the alternative: subplot.\n",
    "# In the plot below, we used plt.subplot(m, n, k) to make the subplot grid of \n",
    "# dimensions m by n and to make the kth subplot active.\n",
    "# Below we plotted the percentage of degrees awarded to women in Physical Sciences\n",
    "# and Computer Science."
   ]
  },
  {
   "cell_type": "code",
   "execution_count": null,
   "metadata": {},
   "outputs": [],
   "source": [
    "# Create a figure with 1x2 subplot and make the left subplot active\n",
    "plt.subplot(1,2,1)\n",
    "\n",
    "# Plot in blue the % of degrees awarded to women in the Physical Sciences\n",
    "plt.plot(year, physical_sciences, color='blue')\n",
    "plt.title('Physical Sciences')\n",
    "\n",
    "# Make the right subplot active in the current 1x2 subplot grid\n",
    "plt.subplot(1,2,2)\n",
    "\n",
    "# Plot in red the % of degrees awarded to women in Computer Science\n",
    "plt.plot(year, computer_science, color='red')\n",
    "plt.title('Computer Science')\n",
    "\n",
    "# Use plt.tight_layout() to improve the spacing between subplots\n",
    "plt.tight_layout()\n",
    "plt.show()"
   ]
  },
  {
   "cell_type": "code",
   "execution_count": null,
   "metadata": {},
   "outputs": [],
   "source": [
    "# Using subplot() (2)\n",
    "\n",
    "# Maybe you want to compare more areas of study. In this case, we use subplot\n",
    "# to include Health Professions and Education. We use the same subplot concept, only\n",
    "# this time it is 2x2 and we label the kth subplot as active.\n",
    "# This creates separate subplots for 4 areas of study, where we plotted the percentage of\n",
    "# degrees awarded to women in each field, each with their own colors."
   ]
  },
  {
   "cell_type": "code",
   "execution_count": null,
   "metadata": {},
   "outputs": [],
   "source": [
    "# Create a figure with 2x2 subplot layout and make the top left subplot active\n",
    "plt.subplot(2,2,1)\n",
    "\n",
    "# Plot in blue the % of degrees awarded to women in the Physical Sciences\n",
    "plt.plot(year, physical_sciences, color='blue')\n",
    "plt.title('Physical Sciences')\n",
    "\n",
    "# Make the top right subplot active in the current 2x2 subplot grid \n",
    "plt.subplot(2,2,2)\n",
    "\n",
    "# Plot in red the % of degrees awarded to women in Computer Science\n",
    "plt.plot(year, computer_science, color='red')\n",
    "plt.title('Computer Science')\n",
    "\n",
    "# Make the bottom left subplot active in the current 2x2 subplot grid\n",
    "plt.subplot(2,2,3)\n",
    "\n",
    "# Plot in green the % of degrees awarded to women in Health Professions\n",
    "plt.plot(year, health, color='green')\n",
    "plt.title('Health Professions')\n",
    "\n",
    "# Make the bottom right subplot active in the current 2x2 subplot grid\n",
    "plt.subplot(2,2,4)\n",
    "\n",
    "# Plot in yellow the % of degrees awarded to women in Education\n",
    "plt.plot(year, education, color='yellow')\n",
    "plt.title('Education')\n",
    "\n",
    "# Improve the spacing between subplots and display them\n",
    "plt.tight_layout()\n",
    "plt.show()\n"
   ]
  },
  {
   "cell_type": "code",
   "execution_count": null,
   "metadata": {},
   "outputs": [],
   "source": [
    "# Using xlim(), ylim()\n",
    "\n",
    "# We may want to customize each axis, we can do this with xlim() and ylim(). \n",
    "# With these commands, we are able to zoom in or expand our plot to get a closer\n",
    "# look at the data. \n",
    "# We also learned how to use plt.savefig() to save the file we generated. Woohoo!"
   ]
  },
  {
   "cell_type": "code",
   "execution_count": null,
   "metadata": {},
   "outputs": [],
   "source": [
    "# Plot the % of degrees awarded to women in Computer Science and the Physical Sciences\n",
    "plt.plot(year,computer_science, color='red') \n",
    "plt.plot(year, physical_sciences, color='blue')\n",
    "\n",
    "# Add the axis labels\n",
    "plt.xlabel('Year')\n",
    "plt.ylabel('Degrees awarded to women (%)')\n",
    "\n",
    "# Set the x-axis range\n",
    "plt.xlim((1990,2010))\n",
    "\n",
    "# Set the y-axis range\n",
    "plt.ylim((0,50))\n",
    "\n",
    "# Add a title and display the plot\n",
    "plt.title('Degrees awarded to women (1990-2010)\\nComputer Science (red)\\nPhysical Sciences (blue)')\n",
    "plt.show()\n",
    "\n",
    "# Save the image as 'xlim_and_ylim.png'\n",
    "plt.savefig('xlim_and_ylim.png')\n"
   ]
  },
  {
   "cell_type": "code",
   "execution_count": null,
   "metadata": {},
   "outputs": [],
   "source": [
    "# Using axis()\n",
    "\n",
    "# We can make things simpler by using axis() to plot the xlim and ylim together."
   ]
  },
  {
   "cell_type": "code",
   "execution_count": null,
   "metadata": {},
   "outputs": [],
   "source": [
    "# Plot in blue the % of degrees awarded to women in Computer Science\n",
    "plt.plot(year,computer_science, color='blue')\n",
    "\n",
    "# Plot in red the % of degrees awarded to women in the Physical Sciences\n",
    "plt.plot(year, physical_sciences,color='red')\n",
    "\n",
    "# Set the x-axis and y-axis limits\n",
    "plt.axis((1990,2010,0,50))\n",
    "\n",
    "# Show the figure\n",
    "plt.show()\n",
    "\n",
    "# Save the figure as 'axis_limits.png'\n",
    "plt.savefig('axis_limits.png')"
   ]
  },
  {
   "cell_type": "code",
   "execution_count": null,
   "metadata": {},
   "outputs": [],
   "source": [
    "# Using legend()\n",
    "\n",
    "# Legends are helpful if we need to decipher between multiple datasets. You can see\n",
    "# how we labeled each dataset separately, as well as labeling the x and y axes.\n",
    "# Loc refers to the placement of the legend on the plot."
   ]
  },
  {
   "cell_type": "code",
   "execution_count": null,
   "metadata": {},
   "outputs": [],
   "source": [
    "# Specify the label 'Computer Science'\n",
    "plt.plot(year, computer_science, color='red', label='Computer Science') \n",
    "\n",
    "# Specify the label 'Physical Sciences' \n",
    "plt.plot(year, physical_sciences, color='blue', label='Physical Sciences')\n",
    "\n",
    "# Add a legend at the lower center\n",
    "plt.legend(loc=\"lower center\")\n",
    "\n",
    "# Add axis labels and title\n",
    "plt.xlabel('Year')\n",
    "plt.ylabel('Enrollment (%)')\n",
    "plt.title('Undergraduate enrollment of women')\n",
    "plt.show()"
   ]
  },
  {
   "cell_type": "code",
   "execution_count": null,
   "metadata": {},
   "outputs": [],
   "source": [
    "# Using annotate()\n",
    "\n",
    "# Annotate helps us give context to out plot. This form of annotation\n",
    "# does not refer to the annotation we require when labeling data for \n",
    "# machine learning models. Annotation in this case simply means\n",
    "# an addition of text or arrows to the graph to help the viewer \n",
    "# understand it conceptually. \n"
   ]
  },
  {
   "cell_type": "code",
   "execution_count": null,
   "metadata": {},
   "outputs": [],
   "source": [
    "# Compute the maximum enrollment of women in Computer Science: cs_max\n",
    "cs_max = computer_science.max()\n",
    "\n",
    "# Calculate the year in which there was maximum enrollment of women in Computer Science: yr_max\n",
    "yr_max = year[computer_science.argmax()]\n",
    "\n",
    "# Plot with legend as before\n",
    "plt.plot(year, computer_science, color='red', label='Computer Science') \n",
    "plt.plot(year, physical_sciences, color='blue', label='Physical Sciences')\n",
    "plt.legend(loc='lower right')\n",
    "\n",
    "# Add a black arrow annotation\n",
    "plt.annotate('Maximum', xy=(yr_max, cs_max),\n",
    "    xytext=(yr_max+5, cs_max+5), arrowprops=dict(facecolor='black'))\n",
    "\n",
    "# Add axis labels and title\n",
    "plt.xlabel('Year')\n",
    "plt.ylabel('Enrollment (%)')\n",
    "plt.title('Undergraduate enrollment of women')\n",
    "plt.show()"
   ]
  },
  {
   "cell_type": "code",
   "execution_count": null,
   "metadata": {},
   "outputs": [],
   "source": [
    "# Modifying styles\n",
    "\n",
    "# We are also able to modify the style of the plot, including the stylesheet."
   ]
  },
  {
   "cell_type": "code",
   "execution_count": null,
   "metadata": {},
   "outputs": [],
   "source": [
    "# Import matplotlib.pyplot\n",
    "import matplotlib.pyplot as plt\n",
    "\n",
    "# Set the style to 'ggplot'\n",
    "plt.style.use('ggplot')\n",
    "\n",
    "# Create a figure with 2x2 subplot layout\n",
    "plt.subplot(2, 2, 1) \n",
    "\n",
    "# Plot the enrollment % of women in the Physical Sciences\n",
    "plt.plot(year, physical_sciences, color='blue')\n",
    "plt.title('Physical Sciences')\n",
    "\n",
    "# Plot the enrollment % of women in Computer Science\n",
    "plt.subplot(2, 2, 2)\n",
    "plt.plot(year, computer_science, color='red')\n",
    "plt.title('Computer Science')\n",
    "\n",
    "# Add annotation\n",
    "cs_max = computer_science.max()\n",
    "yr_max = year[computer_science.argmax()]\n",
    "plt.annotate('Maximum', xy=(yr_max, cs_max), xytext=(yr_max-1, cs_max-10), arrowprops=dict(facecolor='black'))\n",
    "\n",
    "# Plot the enrollmment % of women in Health professions\n",
    "plt.subplot(2, 2, 3)\n",
    "plt.plot(year, health, color='green')\n",
    "plt.title('Health Professions')\n",
    "\n",
    "# Plot the enrollment % of women in Education\n",
    "plt.subplot(2, 2, 4)\n",
    "plt.plot(year, education, color='yellow')\n",
    "plt.title('Education')\n",
    "\n",
    "# Improve spacing between subplots and display them\n",
    "plt.tight_layout()\n",
    "plt.show()"
   ]
  }
 ],
 "metadata": {
  "kernelspec": {
   "display_name": "Python 3",
   "language": "python",
   "name": "python3"
  },
  "language_info": {
   "codemirror_mode": {
    "name": "ipython",
    "version": 3
   },
   "file_extension": ".py",
   "mimetype": "text/x-python",
   "name": "python",
   "nbconvert_exporter": "python",
   "pygments_lexer": "ipython3",
   "version": "3.7.3"
  }
 },
 "nbformat": 4,
 "nbformat_minor": 2
}
