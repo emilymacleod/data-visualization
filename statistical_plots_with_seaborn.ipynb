{
 "cells": [
  {
   "cell_type": "code",
   "execution_count": null,
   "metadata": {},
   "outputs": [],
   "source": [
    "# Simple linear regressions\n",
    "\n",
    "# Seaborn is a visualization library \n",
    "# and it provides a convenient interface to \n",
    "# generate complex and great-looking statistical plots.\n",
    "\n",
    "# Using the auto dataset from Datacamp, I will illustrate a \n",
    "# linear regression illustrating the relationship between \n",
    "# automobile weight and horse power.\n",
    "\n",
    "# Import plotting modules - matplotlib and seaborn\n",
    "import matplotlib.pyplot as plt\n",
    "import seaborn as sns\n",
    "\n",
    "# Plot a linear regression between 'weight' and 'hp'\n",
    "sns.lmplot(x='weight', y='hp', data=auto)\n",
    "\n",
    "# Display the plot\n",
    "plt.show()"
   ]
  },
  {
   "cell_type": "code",
   "execution_count": null,
   "metadata": {},
   "outputs": [],
   "source": [
    "# Plotting residuals of a regression\n",
    "\n",
    "# The residuals show how to get a better idea \n",
    "# of how well the regression captured the data (see previous cell \n",
    "# how to make a linear regression)\n",
    "\n",
    "# Import plotting modules - plt and sns\n",
    "import matplotlib.pyplot as plt\n",
    "import seaborn as sns\n",
    "\n",
    "# Generate a green residual plot of the regression between 'hp' and 'mpg'\n",
    "sns.residplot(x='hp', y='mpg', data=auto, color='green')\n",
    "\n",
    "# Display the plot\n",
    "plt.show()"
   ]
  },
  {
   "cell_type": "code",
   "execution_count": null,
   "metadata": {},
   "outputs": [],
   "source": [
    "# Higher-order regressions\n",
    "\n",
    "# Generate a scatter plot of 'weight' and 'mpg' using red circles\n",
    "plt.scatter(auto['weight'], auto['mpg'], label='data', color='red', marker='o')\n",
    "\n",
    "# Plot in blue a linear regression of order 1 between 'weight' and 'mpg'\n",
    "sns.regplot(x='weight', y='mpg', data=auto, scatter=None, color='blue', label='First Order')\n",
    "\n",
    "# Plot in green a linear regression of order 2 between 'weight' and 'mpg'\n",
    "sns.regplot(x='weight', y='mpg', data=auto, scatter=None, order=2, color='green', label='Second Order')\n",
    "\n",
    "# Add a legend and display the plot\n",
    "plt.legend(loc='upper right')\n",
    "plt.show()"
   ]
  },
  {
   "cell_type": "code",
   "execution_count": null,
   "metadata": {},
   "outputs": [],
   "source": [
    "# Grouping linear regressions by hue\n",
    "\n",
    "# We can use hue to determine between different variables. \n",
    "# The distinct groups of points are used to produce distinct \n",
    "# regressions with different hues in the plot.\n",
    "\n",
    "# Plot a linear regression between 'weight' and 'hp', with a hue of 'origin' and palette of 'Set1'\n",
    "sns.lmplot(x='weight', y='hp', data=auto, hue='origin', palette='Set1')\n",
    "\n",
    "# Display the plot\n",
    "plt.show()"
   ]
  },
  {
   "cell_type": "code",
   "execution_count": null,
   "metadata": {},
   "outputs": [],
   "source": [
    "# Grouping linear regressions by row or column\n",
    "\n",
    "# Using the auto dataset from Datacamp again, group the regressions\n",
    "# by row or col. Here may want to use a grid of subplots. lmplot does this for row/col.\n",
    "\n",
    "# Plot linear regressions between 'weight' and 'hp' grouped row-wise by 'origin'\n",
    "sns.lmplot(x='weight', y='hp',data=auto, col='origin', row='origin')\n",
    "\n",
    "# Display the plot\n",
    "plt.show()"
   ]
  },
  {
   "cell_type": "code",
   "execution_count": null,
   "metadata": {},
   "outputs": [],
   "source": [
    "# Constructing strip plots\n",
    "\n",
    "# One way of visualizaing data that has a relationship between two continuous variables. \n",
    "# How does the distribution of a single continuous variable become affected by a second \n",
    "# categorical variable. Plot this with a strip plot.\n",
    "\n",
    "# Make a strip plot of 'hp' grouped by 'cyl'\n",
    "plt.subplot(2,1,1)\n",
    "sns.stripplot(x='cyl', y='hp', data=auto)\n",
    "\n",
    "# Make the strip plot again using jitter and a smaller point size\n",
    "plt.subplot(2,1,2)\n",
    "sns.stripplot(x='cyl', y='hp', data=auto, jitter=True, size=3)\n",
    "\n",
    "# Display the plot\n",
    "plt.show()"
   ]
  },
  {
   "cell_type": "code",
   "execution_count": null,
   "metadata": {},
   "outputs": [],
   "source": [
    "# Constructing swarm plots\n",
    "\n",
    "# A swarm plot is a lot like a strip plot but\n",
    "# spreads out the points to avoid overlap and \n",
    "# provides a better visual overview of the data.\n",
    "\n",
    "# Generate a swarm plot of 'hp' grouped horizontally by 'cyl'  \n",
    "plt.subplot(2,1,1)\n",
    "sns.swarmplot(x='cyl', y='hp', data=auto)\n",
    "\n",
    "# Generate a swarm plot of 'hp' grouped vertically by 'cyl' with a hue of 'origin'\n",
    "plt.subplot(2,1,2)\n",
    "sns.swarmplot(x='hp', y='cyl', data=auto, hue='origin', orient='h')\n",
    "\n",
    "# Display the plot\n",
    "plt.show()"
   ]
  },
  {
   "cell_type": "code",
   "execution_count": null,
   "metadata": {},
   "outputs": [],
   "source": [
    "# Constructing violin plots\n",
    "\n",
    "# A violin plot is useful to use as it reduces a dataset to have more descriptive \n",
    "# statistics and provides a good summary of the data.\n",
    "\n",
    "# Generate a violin plot of 'hp' grouped horizontally by 'cyl'\n",
    "plt.subplot(2,1,1)\n",
    "sns.violinplot(x='cyl', y='hp', data=auto)\n",
    "\n",
    "# Generate the same violin plot again with a color of 'lightgray' and without inner annotations\n",
    "plt.subplot(2,1,2)\n",
    "sns.violinplot(x='cyl', y='hp', data=auto, inner=None, color='lightgray')\n",
    "\n",
    "# Overlay a strip plot on the violin plot\n",
    "sns.stripplot(x='cyl', y='hp', data=auto, size=1.5, jitter=True)\n",
    "\n",
    "# Display the plot\n",
    "plt.show()"
   ]
  },
  {
   "cell_type": "code",
   "execution_count": null,
   "metadata": {},
   "outputs": [],
   "source": [
    "# Plotting joint distributions (1)\n",
    "\n",
    "# Visualize a bivariate distribution to see how data distributions of \n",
    "# continuous random variables vary jointly.\n",
    "\n",
    "# Generate a joint plot of 'hp' and 'mpg'\n",
    "sns.jointplot(x='hp', y='mpg', data=auto)\n",
    "\n",
    "# Display the plot\n",
    "plt.show()"
   ]
  },
  {
   "cell_type": "code",
   "execution_count": null,
   "metadata": {},
   "outputs": [],
   "source": [
    "# Plotting joint distributions (2)\n",
    "\n",
    "# The seaborn function sns.jointplot() has a \n",
    "# parameter kind to specify how to visualize the \n",
    "# joint variation of two continuous random variables. Plot a joint distribution.\n",
    "\n",
    "# Generate a joint plot of 'hp' and 'mpg' using a hexbin plots\n",
    "sns.jointplot(x='hp', y='mpg', data=auto, kind='hex')\n",
    "\n",
    "# Display the plot\n",
    "plt.show()"
   ]
  },
  {
   "cell_type": "code",
   "execution_count": null,
   "metadata": {},
   "outputs": [],
   "source": [
    "# Plotting distributions pairwise (1)\n",
    "\n",
    "# Print the first 5 rows of the DataFrame\n",
    "print(auto.head())\n",
    "\n",
    "# Plot the pairwise joint distributions from the DataFrame \n",
    "sns.pairplot(auto)\n",
    "\n",
    "# Display the plot\n",
    "plt.show()"
   ]
  },
  {
   "cell_type": "code",
   "execution_count": null,
   "metadata": {},
   "outputs": [],
   "source": [
    "# Plotting distributions pairwise (2)\n",
    "\n",
    "# Print the first 5 rows of the DataFrame\n",
    "print(auto.head())\n",
    "\n",
    "# Plot the pairwise joint distributions grouped by 'origin' along with regression lines\n",
    "sns.pairplot(data=auto, kind='reg', hue='origin')\n",
    "\n",
    "# Display the plot\n",
    "plt.show()"
   ]
  },
  {
   "cell_type": "code",
   "execution_count": null,
   "metadata": {},
   "outputs": [],
   "source": [
    "# Visualizing correlations with a heatmap\n",
    "\n",
    "# The covariance matrix can be easily visualized as a heatmap. \n",
    "# A heatmap is effectively a pseudocolor plot with labelled rows and columns.\n",
    "# Plot a heatmap with a covariance matrix.\n",
    "\n",
    "# Print the covariance matrix\n",
    "print(cov_matrix)\n",
    "\n",
    "# Visualize the covariance matrix using a heatmap\n",
    "sns.heatmap(cov_matrix)\n",
    "\n",
    "# Display the heatmap\n",
    "plt.show()"
   ]
  }
 ],
 "metadata": {
  "kernelspec": {
   "display_name": "Python 3",
   "language": "python",
   "name": "python3"
  },
  "language_info": {
   "codemirror_mode": {
    "name": "ipython",
    "version": 3
   },
   "file_extension": ".py",
   "mimetype": "text/x-python",
   "name": "python",
   "nbconvert_exporter": "python",
   "pygments_lexer": "ipython3",
   "version": "3.7.3"
  }
 },
 "nbformat": 4,
 "nbformat_minor": 2
}
